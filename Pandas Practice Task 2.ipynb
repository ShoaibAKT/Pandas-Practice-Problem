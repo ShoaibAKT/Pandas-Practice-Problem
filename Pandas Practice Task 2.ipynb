{
 "cells": [
  {
   "cell_type": "code",
   "execution_count": 1,
   "id": "b70b4478",
   "metadata": {},
   "outputs": [
    {
     "data": {
      "text/html": [
       "<div>\n",
       "<style scoped>\n",
       "    .dataframe tbody tr th:only-of-type {\n",
       "        vertical-align: middle;\n",
       "    }\n",
       "\n",
       "    .dataframe tbody tr th {\n",
       "        vertical-align: top;\n",
       "    }\n",
       "\n",
       "    .dataframe thead th {\n",
       "        text-align: right;\n",
       "    }\n",
       "</style>\n",
       "<table border=\"1\" class=\"dataframe\">\n",
       "  <thead>\n",
       "    <tr style=\"text-align: right;\">\n",
       "      <th></th>\n",
       "      <th>Invoice</th>\n",
       "      <th>StockCode</th>\n",
       "      <th>Description</th>\n",
       "      <th>Quantity</th>\n",
       "      <th>InvoiceDate</th>\n",
       "      <th>Price</th>\n",
       "      <th>Customer ID</th>\n",
       "      <th>Country</th>\n",
       "    </tr>\n",
       "  </thead>\n",
       "  <tbody>\n",
       "    <tr>\n",
       "      <th>0</th>\n",
       "      <td>489434</td>\n",
       "      <td>85048</td>\n",
       "      <td>15CM CHRISTMAS GLASS BALL 20 LIGHTS</td>\n",
       "      <td>12</td>\n",
       "      <td>2009-12-01 07:45:00</td>\n",
       "      <td>6.95</td>\n",
       "      <td>13085.0</td>\n",
       "      <td>United Kingdom</td>\n",
       "    </tr>\n",
       "    <tr>\n",
       "      <th>1</th>\n",
       "      <td>489434</td>\n",
       "      <td>79323P</td>\n",
       "      <td>PINK CHERRY LIGHTS</td>\n",
       "      <td>12</td>\n",
       "      <td>2009-12-01 07:45:00</td>\n",
       "      <td>6.75</td>\n",
       "      <td>13085.0</td>\n",
       "      <td>United Kingdom</td>\n",
       "    </tr>\n",
       "    <tr>\n",
       "      <th>2</th>\n",
       "      <td>489434</td>\n",
       "      <td>79323W</td>\n",
       "      <td>WHITE CHERRY LIGHTS</td>\n",
       "      <td>12</td>\n",
       "      <td>2009-12-01 07:45:00</td>\n",
       "      <td>6.75</td>\n",
       "      <td>13085.0</td>\n",
       "      <td>United Kingdom</td>\n",
       "    </tr>\n",
       "    <tr>\n",
       "      <th>3</th>\n",
       "      <td>489434</td>\n",
       "      <td>22041</td>\n",
       "      <td>RECORD FRAME 7\" SINGLE SIZE</td>\n",
       "      <td>48</td>\n",
       "      <td>2009-12-01 07:45:00</td>\n",
       "      <td>2.10</td>\n",
       "      <td>13085.0</td>\n",
       "      <td>United Kingdom</td>\n",
       "    </tr>\n",
       "    <tr>\n",
       "      <th>4</th>\n",
       "      <td>489434</td>\n",
       "      <td>21232</td>\n",
       "      <td>STRAWBERRY CERAMIC TRINKET BOX</td>\n",
       "      <td>24</td>\n",
       "      <td>2009-12-01 07:45:00</td>\n",
       "      <td>1.25</td>\n",
       "      <td>13085.0</td>\n",
       "      <td>United Kingdom</td>\n",
       "    </tr>\n",
       "  </tbody>\n",
       "</table>\n",
       "</div>"
      ],
      "text/plain": [
       "  Invoice StockCode                          Description  Quantity  \\\n",
       "0  489434     85048  15CM CHRISTMAS GLASS BALL 20 LIGHTS        12   \n",
       "1  489434    79323P                   PINK CHERRY LIGHTS        12   \n",
       "2  489434    79323W                  WHITE CHERRY LIGHTS        12   \n",
       "3  489434     22041         RECORD FRAME 7\" SINGLE SIZE         48   \n",
       "4  489434     21232       STRAWBERRY CERAMIC TRINKET BOX        24   \n",
       "\n",
       "          InvoiceDate  Price  Customer ID         Country  \n",
       "0 2009-12-01 07:45:00   6.95      13085.0  United Kingdom  \n",
       "1 2009-12-01 07:45:00   6.75      13085.0  United Kingdom  \n",
       "2 2009-12-01 07:45:00   6.75      13085.0  United Kingdom  \n",
       "3 2009-12-01 07:45:00   2.10      13085.0  United Kingdom  \n",
       "4 2009-12-01 07:45:00   1.25      13085.0  United Kingdom  "
      ]
     },
     "execution_count": 1,
     "metadata": {},
     "output_type": "execute_result"
    }
   ],
   "source": [
    "# Import libraries\n",
    "import numpy as np\n",
    "import pandas as pd\n",
    "import matplotlib.pyplot as plt\n",
    "import seaborn as sns\n",
    "%matplotlib inline\n",
    "#Read datsaet\n",
    "dataset=pd.read_excel('online_retail_II.xlsx')\n",
    "#first five records of dataset\n",
    "dataset.head()"
   ]
  },
  {
   "cell_type": "code",
   "execution_count": 2,
   "id": "4babf7b6",
   "metadata": {},
   "outputs": [
    {
     "data": {
      "text/html": [
       "<div>\n",
       "<style scoped>\n",
       "    .dataframe tbody tr th:only-of-type {\n",
       "        vertical-align: middle;\n",
       "    }\n",
       "\n",
       "    .dataframe tbody tr th {\n",
       "        vertical-align: top;\n",
       "    }\n",
       "\n",
       "    .dataframe thead th {\n",
       "        text-align: right;\n",
       "    }\n",
       "</style>\n",
       "<table border=\"1\" class=\"dataframe\">\n",
       "  <thead>\n",
       "    <tr style=\"text-align: right;\">\n",
       "      <th></th>\n",
       "      <th>Quantity</th>\n",
       "      <th>Price</th>\n",
       "      <th>Customer ID</th>\n",
       "    </tr>\n",
       "  </thead>\n",
       "  <tbody>\n",
       "    <tr>\n",
       "      <th>count</th>\n",
       "      <td>525461.000000</td>\n",
       "      <td>525461.000000</td>\n",
       "      <td>417534.000000</td>\n",
       "    </tr>\n",
       "    <tr>\n",
       "      <th>mean</th>\n",
       "      <td>10.337667</td>\n",
       "      <td>4.688834</td>\n",
       "      <td>15360.645478</td>\n",
       "    </tr>\n",
       "    <tr>\n",
       "      <th>std</th>\n",
       "      <td>107.424110</td>\n",
       "      <td>146.126914</td>\n",
       "      <td>1680.811316</td>\n",
       "    </tr>\n",
       "    <tr>\n",
       "      <th>min</th>\n",
       "      <td>-9600.000000</td>\n",
       "      <td>-53594.360000</td>\n",
       "      <td>12346.000000</td>\n",
       "    </tr>\n",
       "    <tr>\n",
       "      <th>25%</th>\n",
       "      <td>1.000000</td>\n",
       "      <td>1.250000</td>\n",
       "      <td>13983.000000</td>\n",
       "    </tr>\n",
       "    <tr>\n",
       "      <th>50%</th>\n",
       "      <td>3.000000</td>\n",
       "      <td>2.100000</td>\n",
       "      <td>15311.000000</td>\n",
       "    </tr>\n",
       "    <tr>\n",
       "      <th>75%</th>\n",
       "      <td>10.000000</td>\n",
       "      <td>4.210000</td>\n",
       "      <td>16799.000000</td>\n",
       "    </tr>\n",
       "    <tr>\n",
       "      <th>max</th>\n",
       "      <td>19152.000000</td>\n",
       "      <td>25111.090000</td>\n",
       "      <td>18287.000000</td>\n",
       "    </tr>\n",
       "  </tbody>\n",
       "</table>\n",
       "</div>"
      ],
      "text/plain": [
       "            Quantity          Price    Customer ID\n",
       "count  525461.000000  525461.000000  417534.000000\n",
       "mean       10.337667       4.688834   15360.645478\n",
       "std       107.424110     146.126914    1680.811316\n",
       "min     -9600.000000  -53594.360000   12346.000000\n",
       "25%         1.000000       1.250000   13983.000000\n",
       "50%         3.000000       2.100000   15311.000000\n",
       "75%        10.000000       4.210000   16799.000000\n",
       "max     19152.000000   25111.090000   18287.000000"
      ]
     },
     "execution_count": 2,
     "metadata": {},
     "output_type": "execute_result"
    }
   ],
   "source": [
    "#Describe teh dataset\n",
    "dataset.describe()"
   ]
  },
  {
   "cell_type": "code",
   "execution_count": 3,
   "id": "1e411302",
   "metadata": {},
   "outputs": [
    {
     "data": {
      "text/plain": [
       "array(['United Kingdom', 'France', 'USA', 'Belgium', 'Australia', 'EIRE',\n",
       "       'Germany', 'Portugal', 'Japan', 'Denmark', 'Nigeria',\n",
       "       'Netherlands', 'Poland', 'Spain', 'Channel Islands', 'Italy',\n",
       "       'Cyprus', 'Greece', 'Norway', 'Austria', 'Sweden',\n",
       "       'United Arab Emirates', 'Finland', 'Switzerland', 'Unspecified',\n",
       "       'Malta', 'Bahrain', 'RSA', 'Bermuda', 'Hong Kong', 'Singapore',\n",
       "       'Thailand', 'Israel', 'Lithuania', 'West Indies', 'Lebanon',\n",
       "       'Korea', 'Brazil', 'Canada', 'Iceland'], dtype=object)"
      ]
     },
     "execution_count": 3,
     "metadata": {},
     "output_type": "execute_result"
    }
   ],
   "source": [
    "#Total Number of countries\n",
    "dataset.Country.unique()"
   ]
  },
  {
   "cell_type": "code",
   "execution_count": 4,
   "id": "e1b16490",
   "metadata": {},
   "outputs": [
    {
     "data": {
      "text/plain": [
       "Index(['Invoice', 'StockCode', 'Description', 'Quantity', 'InvoiceDate',\n",
       "       'Price', 'Customer ID', 'Country'],\n",
       "      dtype='object')"
      ]
     },
     "execution_count": 4,
     "metadata": {},
     "output_type": "execute_result"
    }
   ],
   "source": [
    "dataset.columns"
   ]
  },
  {
   "cell_type": "code",
   "execution_count": 5,
   "id": "46b2d1ae",
   "metadata": {},
   "outputs": [
    {
     "data": {
      "text/plain": [
       "(525461, 8)"
      ]
     },
     "execution_count": 5,
     "metadata": {},
     "output_type": "execute_result"
    }
   ],
   "source": [
    "#shape of the dataset\n",
    "dataset.shape"
   ]
  },
  {
   "cell_type": "code",
   "execution_count": 6,
   "id": "0f126544",
   "metadata": {},
   "outputs": [
    {
     "data": {
      "text/html": [
       "<div>\n",
       "<style scoped>\n",
       "    .dataframe tbody tr th:only-of-type {\n",
       "        vertical-align: middle;\n",
       "    }\n",
       "\n",
       "    .dataframe tbody tr th {\n",
       "        vertical-align: top;\n",
       "    }\n",
       "\n",
       "    .dataframe thead th {\n",
       "        text-align: right;\n",
       "    }\n",
       "</style>\n",
       "<table border=\"1\" class=\"dataframe\">\n",
       "  <thead>\n",
       "    <tr style=\"text-align: right;\">\n",
       "      <th></th>\n",
       "      <th>Customer ID</th>\n",
       "      <th>StockCode</th>\n",
       "      <th>Invoice</th>\n",
       "      <th>Quantity</th>\n",
       "      <th>Price</th>\n",
       "      <th>InvoiceDate</th>\n",
       "      <th>Description</th>\n",
       "      <th>Country</th>\n",
       "    </tr>\n",
       "  </thead>\n",
       "  <tbody>\n",
       "    <tr>\n",
       "      <th>0</th>\n",
       "      <td>13085.0</td>\n",
       "      <td>85048</td>\n",
       "      <td>489434</td>\n",
       "      <td>12</td>\n",
       "      <td>6.95</td>\n",
       "      <td>2009-12-01 07:45:00</td>\n",
       "      <td>15CM CHRISTMAS GLASS BALL 20 LIGHTS</td>\n",
       "      <td>United Kingdom</td>\n",
       "    </tr>\n",
       "    <tr>\n",
       "      <th>1</th>\n",
       "      <td>13085.0</td>\n",
       "      <td>79323P</td>\n",
       "      <td>489434</td>\n",
       "      <td>12</td>\n",
       "      <td>6.75</td>\n",
       "      <td>2009-12-01 07:45:00</td>\n",
       "      <td>PINK CHERRY LIGHTS</td>\n",
       "      <td>United Kingdom</td>\n",
       "    </tr>\n",
       "    <tr>\n",
       "      <th>2</th>\n",
       "      <td>13085.0</td>\n",
       "      <td>79323W</td>\n",
       "      <td>489434</td>\n",
       "      <td>12</td>\n",
       "      <td>6.75</td>\n",
       "      <td>2009-12-01 07:45:00</td>\n",
       "      <td>WHITE CHERRY LIGHTS</td>\n",
       "      <td>United Kingdom</td>\n",
       "    </tr>\n",
       "    <tr>\n",
       "      <th>3</th>\n",
       "      <td>13085.0</td>\n",
       "      <td>22041</td>\n",
       "      <td>489434</td>\n",
       "      <td>48</td>\n",
       "      <td>2.10</td>\n",
       "      <td>2009-12-01 07:45:00</td>\n",
       "      <td>RECORD FRAME 7\" SINGLE SIZE</td>\n",
       "      <td>United Kingdom</td>\n",
       "    </tr>\n",
       "    <tr>\n",
       "      <th>4</th>\n",
       "      <td>13085.0</td>\n",
       "      <td>21232</td>\n",
       "      <td>489434</td>\n",
       "      <td>24</td>\n",
       "      <td>1.25</td>\n",
       "      <td>2009-12-01 07:45:00</td>\n",
       "      <td>STRAWBERRY CERAMIC TRINKET BOX</td>\n",
       "      <td>United Kingdom</td>\n",
       "    </tr>\n",
       "  </tbody>\n",
       "</table>\n",
       "</div>"
      ],
      "text/plain": [
       "   Customer ID StockCode Invoice  Quantity  Price         InvoiceDate  \\\n",
       "0      13085.0     85048  489434        12   6.95 2009-12-01 07:45:00   \n",
       "1      13085.0    79323P  489434        12   6.75 2009-12-01 07:45:00   \n",
       "2      13085.0    79323W  489434        12   6.75 2009-12-01 07:45:00   \n",
       "3      13085.0     22041  489434        48   2.10 2009-12-01 07:45:00   \n",
       "4      13085.0     21232  489434        24   1.25 2009-12-01 07:45:00   \n",
       "\n",
       "                           Description         Country  \n",
       "0  15CM CHRISTMAS GLASS BALL 20 LIGHTS  United Kingdom  \n",
       "1                   PINK CHERRY LIGHTS  United Kingdom  \n",
       "2                  WHITE CHERRY LIGHTS  United Kingdom  \n",
       "3         RECORD FRAME 7\" SINGLE SIZE   United Kingdom  \n",
       "4       STRAWBERRY CERAMIC TRINKET BOX  United Kingdom  "
      ]
     },
     "execution_count": 6,
     "metadata": {},
     "output_type": "execute_result"
    }
   ],
   "source": [
    "# shifting columns according to accomodate total sales column\n",
    "dataset=dataset[['Customer ID','StockCode','Invoice','Quantity','Price', 'InvoiceDate', 'Description', 'Country']]\n",
    "dataset.head()"
   ]
  },
  {
   "cell_type": "code",
   "execution_count": 7,
   "id": "ce620ff6",
   "metadata": {},
   "outputs": [
    {
     "data": {
      "text/plain": [
       "Customer ID    107927\n",
       "StockCode           0\n",
       "Invoice             0\n",
       "Quantity            0\n",
       "Price               0\n",
       "InvoiceDate         0\n",
       "Description      2928\n",
       "Country             0\n",
       "dtype: int64"
      ]
     },
     "execution_count": 7,
     "metadata": {},
     "output_type": "execute_result"
    }
   ],
   "source": [
    "dataset.isnull().sum()"
   ]
  },
  {
   "cell_type": "code",
   "execution_count": 8,
   "id": "d4507726",
   "metadata": {},
   "outputs": [
    {
     "data": {
      "text/plain": [
       "Customer ID    417534\n",
       "StockCode      525461\n",
       "Invoice        525461\n",
       "Quantity       525461\n",
       "Price          525461\n",
       "InvoiceDate    525461\n",
       "Description    522533\n",
       "Country        525461\n",
       "dtype: int64"
      ]
     },
     "execution_count": 8,
     "metadata": {},
     "output_type": "execute_result"
    }
   ],
   "source": [
    "dataset.count()"
   ]
  },
  {
   "cell_type": "code",
   "execution_count": 9,
   "id": "cdbfcc59",
   "metadata": {},
   "outputs": [
    {
     "data": {
      "text/html": [
       "<div>\n",
       "<style scoped>\n",
       "    .dataframe tbody tr th:only-of-type {\n",
       "        vertical-align: middle;\n",
       "    }\n",
       "\n",
       "    .dataframe tbody tr th {\n",
       "        vertical-align: top;\n",
       "    }\n",
       "\n",
       "    .dataframe thead th {\n",
       "        text-align: right;\n",
       "    }\n",
       "</style>\n",
       "<table border=\"1\" class=\"dataframe\">\n",
       "  <thead>\n",
       "    <tr style=\"text-align: right;\">\n",
       "      <th></th>\n",
       "      <th>Customer ID</th>\n",
       "      <th>StockCode</th>\n",
       "      <th>Invoice</th>\n",
       "      <th>Quantity</th>\n",
       "      <th>Price</th>\n",
       "      <th>Total_amount</th>\n",
       "      <th>InvoiceDate</th>\n",
       "      <th>Description</th>\n",
       "      <th>Country</th>\n",
       "    </tr>\n",
       "  </thead>\n",
       "  <tbody>\n",
       "    <tr>\n",
       "      <th>0</th>\n",
       "      <td>13085.0</td>\n",
       "      <td>85048</td>\n",
       "      <td>489434</td>\n",
       "      <td>12</td>\n",
       "      <td>6.95</td>\n",
       "      <td>83.40</td>\n",
       "      <td>2009-12-01 07:45:00</td>\n",
       "      <td>15CM CHRISTMAS GLASS BALL 20 LIGHTS</td>\n",
       "      <td>United Kingdom</td>\n",
       "    </tr>\n",
       "    <tr>\n",
       "      <th>1</th>\n",
       "      <td>13085.0</td>\n",
       "      <td>79323P</td>\n",
       "      <td>489434</td>\n",
       "      <td>12</td>\n",
       "      <td>6.75</td>\n",
       "      <td>81.00</td>\n",
       "      <td>2009-12-01 07:45:00</td>\n",
       "      <td>PINK CHERRY LIGHTS</td>\n",
       "      <td>United Kingdom</td>\n",
       "    </tr>\n",
       "    <tr>\n",
       "      <th>2</th>\n",
       "      <td>13085.0</td>\n",
       "      <td>79323W</td>\n",
       "      <td>489434</td>\n",
       "      <td>12</td>\n",
       "      <td>6.75</td>\n",
       "      <td>81.00</td>\n",
       "      <td>2009-12-01 07:45:00</td>\n",
       "      <td>WHITE CHERRY LIGHTS</td>\n",
       "      <td>United Kingdom</td>\n",
       "    </tr>\n",
       "    <tr>\n",
       "      <th>3</th>\n",
       "      <td>13085.0</td>\n",
       "      <td>22041</td>\n",
       "      <td>489434</td>\n",
       "      <td>48</td>\n",
       "      <td>2.10</td>\n",
       "      <td>100.80</td>\n",
       "      <td>2009-12-01 07:45:00</td>\n",
       "      <td>RECORD FRAME 7\" SINGLE SIZE</td>\n",
       "      <td>United Kingdom</td>\n",
       "    </tr>\n",
       "    <tr>\n",
       "      <th>4</th>\n",
       "      <td>13085.0</td>\n",
       "      <td>21232</td>\n",
       "      <td>489434</td>\n",
       "      <td>24</td>\n",
       "      <td>1.25</td>\n",
       "      <td>30.00</td>\n",
       "      <td>2009-12-01 07:45:00</td>\n",
       "      <td>STRAWBERRY CERAMIC TRINKET BOX</td>\n",
       "      <td>United Kingdom</td>\n",
       "    </tr>\n",
       "    <tr>\n",
       "      <th>...</th>\n",
       "      <td>...</td>\n",
       "      <td>...</td>\n",
       "      <td>...</td>\n",
       "      <td>...</td>\n",
       "      <td>...</td>\n",
       "      <td>...</td>\n",
       "      <td>...</td>\n",
       "      <td>...</td>\n",
       "      <td>...</td>\n",
       "    </tr>\n",
       "    <tr>\n",
       "      <th>525456</th>\n",
       "      <td>17530.0</td>\n",
       "      <td>22271</td>\n",
       "      <td>538171</td>\n",
       "      <td>2</td>\n",
       "      <td>2.95</td>\n",
       "      <td>5.90</td>\n",
       "      <td>2010-12-09 20:01:00</td>\n",
       "      <td>FELTCRAFT DOLL ROSIE</td>\n",
       "      <td>United Kingdom</td>\n",
       "    </tr>\n",
       "    <tr>\n",
       "      <th>525457</th>\n",
       "      <td>17530.0</td>\n",
       "      <td>22750</td>\n",
       "      <td>538171</td>\n",
       "      <td>1</td>\n",
       "      <td>3.75</td>\n",
       "      <td>3.75</td>\n",
       "      <td>2010-12-09 20:01:00</td>\n",
       "      <td>FELTCRAFT PRINCESS LOLA DOLL</td>\n",
       "      <td>United Kingdom</td>\n",
       "    </tr>\n",
       "    <tr>\n",
       "      <th>525458</th>\n",
       "      <td>17530.0</td>\n",
       "      <td>22751</td>\n",
       "      <td>538171</td>\n",
       "      <td>1</td>\n",
       "      <td>3.75</td>\n",
       "      <td>3.75</td>\n",
       "      <td>2010-12-09 20:01:00</td>\n",
       "      <td>FELTCRAFT PRINCESS OLIVIA DOLL</td>\n",
       "      <td>United Kingdom</td>\n",
       "    </tr>\n",
       "    <tr>\n",
       "      <th>525459</th>\n",
       "      <td>17530.0</td>\n",
       "      <td>20970</td>\n",
       "      <td>538171</td>\n",
       "      <td>2</td>\n",
       "      <td>3.75</td>\n",
       "      <td>7.50</td>\n",
       "      <td>2010-12-09 20:01:00</td>\n",
       "      <td>PINK FLORAL FELTCRAFT SHOULDER BAG</td>\n",
       "      <td>United Kingdom</td>\n",
       "    </tr>\n",
       "    <tr>\n",
       "      <th>525460</th>\n",
       "      <td>17530.0</td>\n",
       "      <td>21931</td>\n",
       "      <td>538171</td>\n",
       "      <td>2</td>\n",
       "      <td>1.95</td>\n",
       "      <td>3.90</td>\n",
       "      <td>2010-12-09 20:01:00</td>\n",
       "      <td>JUMBO STORAGE BAG SUKI</td>\n",
       "      <td>United Kingdom</td>\n",
       "    </tr>\n",
       "  </tbody>\n",
       "</table>\n",
       "<p>525461 rows × 9 columns</p>\n",
       "</div>"
      ],
      "text/plain": [
       "        Customer ID StockCode Invoice  Quantity  Price  Total_amount  \\\n",
       "0           13085.0     85048  489434        12   6.95         83.40   \n",
       "1           13085.0    79323P  489434        12   6.75         81.00   \n",
       "2           13085.0    79323W  489434        12   6.75         81.00   \n",
       "3           13085.0     22041  489434        48   2.10        100.80   \n",
       "4           13085.0     21232  489434        24   1.25         30.00   \n",
       "...             ...       ...     ...       ...    ...           ...   \n",
       "525456      17530.0     22271  538171         2   2.95          5.90   \n",
       "525457      17530.0     22750  538171         1   3.75          3.75   \n",
       "525458      17530.0     22751  538171         1   3.75          3.75   \n",
       "525459      17530.0     20970  538171         2   3.75          7.50   \n",
       "525460      17530.0     21931  538171         2   1.95          3.90   \n",
       "\n",
       "               InvoiceDate                          Description  \\\n",
       "0      2009-12-01 07:45:00  15CM CHRISTMAS GLASS BALL 20 LIGHTS   \n",
       "1      2009-12-01 07:45:00                   PINK CHERRY LIGHTS   \n",
       "2      2009-12-01 07:45:00                  WHITE CHERRY LIGHTS   \n",
       "3      2009-12-01 07:45:00         RECORD FRAME 7\" SINGLE SIZE    \n",
       "4      2009-12-01 07:45:00       STRAWBERRY CERAMIC TRINKET BOX   \n",
       "...                    ...                                  ...   \n",
       "525456 2010-12-09 20:01:00                 FELTCRAFT DOLL ROSIE   \n",
       "525457 2010-12-09 20:01:00         FELTCRAFT PRINCESS LOLA DOLL   \n",
       "525458 2010-12-09 20:01:00       FELTCRAFT PRINCESS OLIVIA DOLL   \n",
       "525459 2010-12-09 20:01:00   PINK FLORAL FELTCRAFT SHOULDER BAG   \n",
       "525460 2010-12-09 20:01:00               JUMBO STORAGE BAG SUKI   \n",
       "\n",
       "               Country  \n",
       "0       United Kingdom  \n",
       "1       United Kingdom  \n",
       "2       United Kingdom  \n",
       "3       United Kingdom  \n",
       "4       United Kingdom  \n",
       "...                ...  \n",
       "525456  United Kingdom  \n",
       "525457  United Kingdom  \n",
       "525458  United Kingdom  \n",
       "525459  United Kingdom  \n",
       "525460  United Kingdom  \n",
       "\n",
       "[525461 rows x 9 columns]"
      ]
     },
     "execution_count": 9,
     "metadata": {},
     "output_type": "execute_result"
    }
   ],
   "source": [
    "##Total amount (Quantity x price )\n",
    "dataset['Total_amount']=dataset['Price']*dataset['Quantity']\n",
    "dataset[['Customer ID','StockCode','Invoice','Quantity','Price','Total_amount','InvoiceDate', 'Description', 'Country']]"
   ]
  },
  {
   "cell_type": "code",
   "execution_count": 10,
   "id": "89fc3a05",
   "metadata": {},
   "outputs": [
    {
     "data": {
      "text/plain": [
       "Customer ID     107927\n",
       "StockCode            0\n",
       "Invoice              0\n",
       "Quantity             0\n",
       "Price                0\n",
       "InvoiceDate          0\n",
       "Description       2928\n",
       "Country              0\n",
       "Total_amount         0\n",
       "dtype: int64"
      ]
     },
     "execution_count": 10,
     "metadata": {},
     "output_type": "execute_result"
    }
   ],
   "source": [
    "#cleaning dataset\n",
    "dataset.isnull().sum()"
   ]
  },
  {
   "cell_type": "code",
   "execution_count": 11,
   "id": "d8118675",
   "metadata": {},
   "outputs": [
    {
     "data": {
      "text/plain": [
       "Customer ID     0\n",
       "StockCode       0\n",
       "Invoice         0\n",
       "Quantity        0\n",
       "Price           0\n",
       "InvoiceDate     0\n",
       "Description     0\n",
       "Country         0\n",
       "Total_amount    0\n",
       "dtype: int64"
      ]
     },
     "execution_count": 11,
     "metadata": {},
     "output_type": "execute_result"
    }
   ],
   "source": [
    "clean_data=dataset.dropna(axis='index', how='any')\n",
    "clean_data.describe()\n",
    "clean_data.isnull().sum()"
   ]
  },
  {
   "cell_type": "code",
   "execution_count": 12,
   "id": "d4d48b4c",
   "metadata": {},
   "outputs": [
    {
     "name": "stderr",
     "output_type": "stream",
     "text": [
      "C:\\Users\\Shoaib\\anaconda3\\lib\\site-packages\\pandas\\util\\_decorators.py:311: SettingWithCopyWarning: \n",
      "A value is trying to be set on a copy of a slice from a DataFrame\n",
      "\n",
      "See the caveats in the documentation: https://pandas.pydata.org/pandas-docs/stable/user_guide/indexing.html#returning-a-view-versus-a-copy\n",
      "  return func(*args, **kwargs)\n"
     ]
    },
    {
     "data": {
      "text/plain": [
       "(410763, 9)"
      ]
     },
     "execution_count": 12,
     "metadata": {},
     "output_type": "execute_result"
    }
   ],
   "source": [
    "clean_data.drop_duplicates(inplace=True)\n",
    "clean_data.shape"
   ]
  },
  {
   "cell_type": "code",
   "execution_count": 13,
   "id": "9233a11d",
   "metadata": {},
   "outputs": [
    {
     "name": "stdout",
     "output_type": "stream",
     "text": [
      "total number of unique customers:  4383\n",
      "total number of unique products:  4031\n",
      "total number of unique transactions:  23587\n",
      "total number of unique countries:  37\n"
     ]
    }
   ],
   "source": [
    "#exploring unique values of each attribute\n",
    "print(\"total number of unique customers: \",clean_data['Customer ID'].nunique())\n",
    "print(\"total number of unique products: \",clean_data['StockCode'].nunique())\n",
    "print(\"total number of unique transactions: \",clean_data['Invoice'].nunique())\n",
    "print(\"total number of unique countries: \",clean_data['Country'].nunique())"
   ]
  },
  {
   "cell_type": "code",
   "execution_count": 14,
   "id": "4562cfcc",
   "metadata": {},
   "outputs": [
    {
     "data": {
      "text/plain": [
       "Country\n",
       "United Kingdom          4429046\n",
       "Denmark                  227030\n",
       "EIRE                     188704\n",
       "Netherlands              181823\n",
       "Germany                  107133\n",
       "France                    74471\n",
       "Sweden                    52238\n",
       "Switzerland               22053\n",
       "Australia                 20053\n",
       "Spain                     18332\n",
       "Belgium                   11980\n",
       "Portugal                  11878\n",
       "Channel Islands           10994\n",
       "Norway                     7863\n",
       "Italy                      7310\n",
       "Japan                      6604\n",
       "Austria                    6479\n",
       "Greece                     6151\n",
       "United Arab Emirates       5746\n",
       "Cyprus                     4371\n",
       "Finland                    3651\n",
       "Unspecified                3416\n",
       "Bermuda                    2798\n",
       "USA                        2666\n",
       "Thailand                   2552\n",
       "Lithuania                  2306\n",
       "Hong Kong                  2306\n",
       "Poland                     1991\n",
       "Singapore                  1753\n",
       "RSA                        1618\n",
       "Malta                      1547\n",
       "Israel                     1132\n",
       "Bahrain                    1015\n",
       "Canada                      894\n",
       "Iceland                     828\n",
       "Korea                       598\n",
       "West Indies                 395\n",
       "Brazil                      189\n",
       "Lebanon                      71\n",
       "Nigeria                      56\n",
       "Name: Quantity, dtype: int64"
      ]
     },
     "execution_count": 14,
     "metadata": {},
     "output_type": "execute_result"
    }
   ],
   "source": [
    "# Grouping countries by highest number of purchases\n",
    "sales_by_country = dataset.groupby('Country')['Quantity'].sum().sort_values(ascending = False)\n",
    "sales_by_country"
   ]
  },
  {
   "cell_type": "code",
   "execution_count": 17,
   "id": "c8d14bd8",
   "metadata": {},
   "outputs": [
    {
     "data": {
      "text/plain": [
       "<AxesSubplot:xlabel='Country'>"
      ]
     },
     "execution_count": 17,
     "metadata": {},
     "output_type": "execute_result"
    },
    {
     "data": {
      "image/png": "[encoded data removed]",
      "text/plain": [
       "<Figure size 432x288 with 1 Axes>"
      ]
     },
     "metadata": {
      "needs_background": "light"
     },
     "output_type": "display_data"
    }
   ],
   "source": [
    "# Top 5 Countries with highest number of sales\n",
    "sales_by_country[:5].plot(kind = 'bar')"
   ]
  },
  {
   "cell_type": "code",
   "execution_count": 18,
   "id": "a54004c0",
   "metadata": {},
   "outputs": [
    {
     "data": {
      "text/plain": [
       "<AxesSubplot:xlabel='Country'>"
      ]
     },
     "execution_count": 18,
     "metadata": {},
     "output_type": "execute_result"
    },
    {
     "data": {
      "image/png": "[encoded data removed]",
      "text/plain": [
       "<Figure size 432x288 with 1 Axes>"
      ]
     },
     "metadata": {
      "needs_background": "light"
     },
     "output_type": "display_data"
    }
   ],
   "source": [
    "# 5 Countries with lowest number of sales\n",
    "sales_by_country[35:].plot(kind = 'bar')"
   ]
  },
  {
   "cell_type": "code",
   "execution_count": 19,
   "id": "fdedcfc1",
   "metadata": {},
   "outputs": [
    {
     "data": {
      "text/html": [
       "<div>\n",
       "<style scoped>\n",
       "    .dataframe tbody tr th:only-of-type {\n",
       "        vertical-align: middle;\n",
       "    }\n",
       "\n",
       "    .dataframe tbody tr th {\n",
       "        vertical-align: top;\n",
       "    }\n",
       "\n",
       "    .dataframe thead th {\n",
       "        text-align: right;\n",
       "    }\n",
       "</style>\n",
       "<table border=\"1\" class=\"dataframe\">\n",
       "  <thead>\n",
       "    <tr style=\"text-align: right;\">\n",
       "      <th></th>\n",
       "      <th>Customer ID</th>\n",
       "      <th>StockCode</th>\n",
       "      <th>Invoice</th>\n",
       "      <th>Quantity</th>\n",
       "      <th>Price</th>\n",
       "      <th>InvoiceDate</th>\n",
       "      <th>Description</th>\n",
       "      <th>Country</th>\n",
       "      <th>Total_amount</th>\n",
       "      <th>Year</th>\n",
       "    </tr>\n",
       "  </thead>\n",
       "  <tbody>\n",
       "    <tr>\n",
       "      <th>0</th>\n",
       "      <td>13085.0</td>\n",
       "      <td>85048</td>\n",
       "      <td>489434</td>\n",
       "      <td>12</td>\n",
       "      <td>6.95</td>\n",
       "      <td>2009-12-01 07:45:00</td>\n",
       "      <td>15CM CHRISTMAS GLASS BALL 20 LIGHTS</td>\n",
       "      <td>United Kingdom</td>\n",
       "      <td>83.4</td>\n",
       "      <td>2009</td>\n",
       "    </tr>\n",
       "    <tr>\n",
       "      <th>1</th>\n",
       "      <td>13085.0</td>\n",
       "      <td>79323P</td>\n",
       "      <td>489434</td>\n",
       "      <td>12</td>\n",
       "      <td>6.75</td>\n",
       "      <td>2009-12-01 07:45:00</td>\n",
       "      <td>PINK CHERRY LIGHTS</td>\n",
       "      <td>United Kingdom</td>\n",
       "      <td>81.0</td>\n",
       "      <td>2009</td>\n",
       "    </tr>\n",
       "    <tr>\n",
       "      <th>2</th>\n",
       "      <td>13085.0</td>\n",
       "      <td>79323W</td>\n",
       "      <td>489434</td>\n",
       "      <td>12</td>\n",
       "      <td>6.75</td>\n",
       "      <td>2009-12-01 07:45:00</td>\n",
       "      <td>WHITE CHERRY LIGHTS</td>\n",
       "      <td>United Kingdom</td>\n",
       "      <td>81.0</td>\n",
       "      <td>2009</td>\n",
       "    </tr>\n",
       "    <tr>\n",
       "      <th>3</th>\n",
       "      <td>13085.0</td>\n",
       "      <td>22041</td>\n",
       "      <td>489434</td>\n",
       "      <td>48</td>\n",
       "      <td>2.10</td>\n",
       "      <td>2009-12-01 07:45:00</td>\n",
       "      <td>RECORD FRAME 7\" SINGLE SIZE</td>\n",
       "      <td>United Kingdom</td>\n",
       "      <td>100.8</td>\n",
       "      <td>2009</td>\n",
       "    </tr>\n",
       "    <tr>\n",
       "      <th>4</th>\n",
       "      <td>13085.0</td>\n",
       "      <td>21232</td>\n",
       "      <td>489434</td>\n",
       "      <td>24</td>\n",
       "      <td>1.25</td>\n",
       "      <td>2009-12-01 07:45:00</td>\n",
       "      <td>STRAWBERRY CERAMIC TRINKET BOX</td>\n",
       "      <td>United Kingdom</td>\n",
       "      <td>30.0</td>\n",
       "      <td>2009</td>\n",
       "    </tr>\n",
       "  </tbody>\n",
       "</table>\n",
       "</div>"
      ],
      "text/plain": [
       "   Customer ID StockCode Invoice  Quantity  Price         InvoiceDate  \\\n",
       "0      13085.0     85048  489434        12   6.95 2009-12-01 07:45:00   \n",
       "1      13085.0    79323P  489434        12   6.75 2009-12-01 07:45:00   \n",
       "2      13085.0    79323W  489434        12   6.75 2009-12-01 07:45:00   \n",
       "3      13085.0     22041  489434        48   2.10 2009-12-01 07:45:00   \n",
       "4      13085.0     21232  489434        24   1.25 2009-12-01 07:45:00   \n",
       "\n",
       "                           Description         Country  Total_amount  Year  \n",
       "0  15CM CHRISTMAS GLASS BALL 20 LIGHTS  United Kingdom          83.4  2009  \n",
       "1                   PINK CHERRY LIGHTS  United Kingdom          81.0  2009  \n",
       "2                  WHITE CHERRY LIGHTS  United Kingdom          81.0  2009  \n",
       "3         RECORD FRAME 7\" SINGLE SIZE   United Kingdom         100.8  2009  \n",
       "4       STRAWBERRY CERAMIC TRINKET BOX  United Kingdom          30.0  2009  "
      ]
     },
     "execution_count": 19,
     "metadata": {},
     "output_type": "execute_result"
    }
   ],
   "source": [
    "# Adding year feature to the dataset \n",
    "\n",
    "time = dataset['InvoiceDate'].dt.year\n",
    "\n",
    "dataset['Year'] = time\n",
    "\n",
    "dataset.head()"
   ]
  },
  {
   "cell_type": "code",
   "execution_count": 20,
   "id": "3ea2ec84",
   "metadata": {},
   "outputs": [
    {
     "data": {
      "text/plain": [
       "<AxesSubplot:xlabel='Year'>"
      ]
     },
     "execution_count": 20,
     "metadata": {},
     "output_type": "execute_result"
    },
    {
     "data": {
      "image/png": "[encoded data removed]",
      "text/plain": [
       "<Figure size 432x288 with 1 Axes>"
      ]
     },
     "metadata": {
      "needs_background": "light"
     },
     "output_type": "display_data"
    }
   ],
   "source": [
    "# Total sales for different years\n",
    "dataset.groupby('Year')['Total_amount'].sum().plot(kind = 'bar')"
   ]
  },
  {
   "cell_type": "code",
   "execution_count": null,
   "id": "2ba0a77d",
   "metadata": {},
   "outputs": [],
   "source": []
  }
 ],
 "metadata": {
  "kernelspec": {
   "display_name": "Python 3 (ipykernel)",
   "language": "python",
   "name": "python3"
  },
  "language_info": {
   "codemirror_mode": {
    "name": "ipython",
    "version": 3
   },
   "file_extension": ".py",
   "mimetype": "text/x-python",
   "name": "python",
   "nbconvert_exporter": "python",
   "pygments_lexer": "ipython3",
   "version": "3.9.7"
  }
 },
 "nbformat": 4,
 "nbformat_minor": 5
}
